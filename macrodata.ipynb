{
 "cells": [
  {
   "cell_type": "code",
   "execution_count": 3,
   "metadata": {},
   "outputs": [],
   "source": [
    "import pandas as pd\n",
    "import requests\n",
    "import json\n",
    "from bs4 import BeautifulSoup\n",
    "from tqdm import tqdm_notebook as tqdm"
   ]
  },
  {
   "cell_type": "code",
   "execution_count": 4,
   "metadata": {},
   "outputs": [],
   "source": [
    "HEADERS = \\\n",
    "    {'Host': 'www.euklems.net',\n",
    "     'Connection': 'keep-alive',\n",
    "     'Cache-Control': 'max-age=0',\n",
    "     'Upgrade-Insecure-Requests': '1',\n",
    "     'User-Agent': 'Mozilla/5.0 (Macintosh; Intel Mac OS X 10_14_4) AppleWebKit/537.36 (KHTML, like Gecko) Chrome/73.0.3683.103 Safari/537.36',\n",
    "      'Accept': 'text/html,application/xhtml+xml,application/xml;q=0.9,image/webp,image/apng,*/*;q=0.8,application/signed-exchange;v=b3',\n",
    "     'Accept-Encoding': 'gzip, deflate',\n",
    "     'Accept-Language': 'hu-HU,hu;q=0.9,en-US;q=0.8,en;q=0.7',\n",
    "     'If-None-Match': \"3ec-5724883dc06c0\",\n",
    "    'If-Modified-Since': 'Tue, 31 Jul 2018 09:50:59 GMT'}\n",
    "homelink = 'http://www.euklems.net/index_TCB_201807.shtml'\n",
    "home = requests.get(homelink,headers = HEADERS)"
   ]
  },
  {
   "cell_type": "code",
   "execution_count": 5,
   "metadata": {
    "scrolled": true
   },
   "outputs": [],
   "source": [
    "excel_files = [i.get('href') for i in BeautifulSoup(home.content).find_all('a')\\\n",
    "               if i.get('href') is not None and '.xlsx' in i.get('href')\\\n",
    "               and 'labour' not in i.get('href')]"
   ]
  },
  {
   "cell_type": "code",
   "execution_count": 6,
   "metadata": {},
   "outputs": [],
   "source": [
    "euklems_key = pd.read_csv('key_table.csv')"
   ]
  },
  {
   "cell_type": "code",
   "execution_count": 7,
   "metadata": {
    "scrolled": true
   },
   "outputs": [
    {
     "data": {
      "application/vnd.jupyter.widget-view+json": {
       "model_id": "21fbac5b69274a44ad2856083806c58d",
       "version_major": 2,
       "version_minor": 0
      },
      "text/plain": [
       "HBox(children=(IntProgress(value=0, max=61), HTML(value='')))"
      ]
     },
     "metadata": {},
     "output_type": "display_data"
    },
    {
     "name": "stdout",
     "output_type": "stream",
     "text": [
      "\n"
     ]
    }
   ],
   "source": [
    "df = pd.DataFrame(columns = ['Country','Key','Year','Industry','Value'])\n",
    "for j in tqdm(range(len(excel_files))):\n",
    "    sheet_names = pd.ExcelFile('http://www.euklems.net/' + excel_files[j]).sheet_names\n",
    "    sheet_names.remove('Notes')\n",
    "    try:\n",
    "        sheet_names.remove('Asset Breakdown')\n",
    "    except:\n",
    "        pass  \n",
    "    excel_od = pd.read_excel('http://www.euklems.net/' + excel_files[j],sheet_name = sheet_names)\n",
    "    df_con = pd.DataFrame(columns = ['Country','Key','Year','Industry','Value'])\n",
    "    for _, e in enumerate(sheet_names):\n",
    "        excel_od[e] = excel_od[e].dropna(axis = 1,how = 'all').dropna(axis = 0,how = 'all')\\\n",
    "                                 .drop('code', axis = 1)\n",
    "        df_var = pd.melt(excel_od[e], id_vars = [\"desc\"])\\\n",
    "                 .rename({'variable':'Key','desc':'Industry','value':'Value'},axis = 1)\n",
    "        if e == 'Deprate':\n",
    "            df_var['Year'] = [None for i in range(df_var.shape[0])]\n",
    "        else:\n",
    "            df_var['Year'] = [df_var.at[i,'Key'][-4:] for i in range(df_var.shape[0])]\n",
    "            df_var['Key'] = [e for i in range(df_var.shape[0])]\n",
    "        df_con = pd.concat([df_con,df_var],sort = False)\n",
    "    df_con['Country'] = list(pd.read_excel('http://www.euklems.net/' + excel_files[j]))[0]\n",
    "    df = pd.concat([df,df_con],sort = False)"
   ]
  },
  {
   "cell_type": "code",
   "execution_count": 8,
   "metadata": {},
   "outputs": [],
   "source": [
    "df_euklems = df.merge(euklems_key, how = 'left', on = 'Key')\n",
    "df_euklems['Database'] = 'EU KLEMS'"
    "df_euklems['Industry'] = df_euklems['Industry'].str.strip()",
    "df_euklems['Country'] = df_euklems['Country'].str.strip()",
    "df_euklems['Key'] = df_euklems['Key'].str.strip()",
    "#for i in tqdm(range(df_euklems.shape[0])):",
    "#    df_euklems.iloc[i,2] = int(df_euklems.iloc[i,2])"
   ]
  },
  {
   "cell_type": "code",
   "execution_count": 9,
   "metadata": {},
   "outputs": [],
   "source": [
    "MP_sn = pd.ExcelFile('https://www.rug.nl/ggdc/historicaldevelopment/maddison/data/mpd2018.xlsx').sheet_names\n",
    "MP = pd.read_excel('https://www.rug.nl/ggdc/historicaldevelopment/maddison/data/mpd2018.xlsx', sheet_name = MP_sn)"
   ]
  },
  {
   "cell_type": "code",
   "execution_count": 10,
   "metadata": {},
   "outputs": [],
   "source": [
    "MP_key = MP[MP_sn[0]].dropna(axis = 0, subset = ['Unnamed: 1'])\\\n",
    "                     .rename({'Maddison Project Database (MPD) 2018':'Key','Unnamed: 1':'Variable'}, axis = 1)"
   ]
  },
  {
   "cell_type": "code",
   "execution_count": 11,
   "metadata": {},
   "outputs": [],
   "source": [
    "df_mp = pd.DataFrame(columns = ['Country','Key','Year','Industry','Value'])\n",
    "for i in range(2,5):\n",
    "    df_var = pd.melt(MP[MP_sn[i]],id_vars = (MP_sn[i]))\\\n",
    "               .rename({MP_sn[i]:'Year','variable':'Country','value':'Value'}, axis = 1)\n",
    "    df_var['Key'] = MP_sn[i]\n",
    "    df_mp = pd.concat([df_mp,df_var],sort = False)\n",
    "df_mp['Industry'] = 'TOTAL INDUSTRIES'\n",
    "df_mp['Database'] = MP[MP_sn[0]].columns[0]\n",
    "df_mp = df_mp.drop(df_mp[df_mp['Year'] == 'year' ].index, axis = 0)\\\n",
    "             .merge(MP_key, how = 'left', on = 'Key')"
   ]
  },
  {
   "cell_type": "code",
   "execution_count": 14,
   "metadata": {},
   "outputs": [],
   "source": [
    "pw_home = requests.get('https://www.rug.nl/ggdc/productivity/pwt/')\n",
    "pw_excel_files = [i.get('href') for i in BeautifulSoup(pw_home.content).find_all('a')\\\n",
    "               if i.get('href') is not None and '.xlsx' in i.get('href')]"
   ]
  },
  {
   "cell_type": "code",
   "execution_count": 15,
   "metadata": {},
   "outputs": [],
   "source": [
    "pw_sn = pd.ExcelFile('https://www.rug.nl' + pw_excel_files[0]).sheet_names\n",
    "pw = pd.read_excel('https://www.rug.nl' + pw_excel_files[0],sheet_name = pw_sn)"
   ]
  },
  {
   "cell_type": "code",
   "execution_count": 16,
   "metadata": {},
   "outputs": [],
   "source": [
    "pw_key = pw[pw_sn[1]].dropna(axis = 0, subset = ['Variable definition'])\\\n",
    "                     .rename({'Variable name':'Key','Variable definition':'Variable'},axis = 1)"
   ]
  },
  {
   "cell_type": "code",
   "execution_count": 17,
   "metadata": {},
   "outputs": [],
   "source": [
    "df_pw = pd.melt(pw[pw_sn[2]].drop('currency_unit', axis = 1).drop('countrycode', axis = 1),\\\n",
    "                id_vars = ['country','year'])\\\n",
    "                .rename({'country':'Country','year':'Year','variable':'Key','value':'Value'},axis = 1)\\\n",
    "                .merge(pw_key, how = 'left', on = 'Key')\n",
    "df_pw['Industry'] = 'TOTAL INDUSTRIES'\n",
    "df_pw['Database'] = pw[pw_sn[0]].columns[0]"
   ]
  },
  {
   "cell_type": "code",
   "execution_count": 18,
   "metadata": {},
   "outputs": [],
   "source": [
    "df = pd.concat([df_mp,df_pw,df_euklems],sort = False)"
   ]
  }
 ],
 "metadata": {
  "kernelspec": {
   "display_name": "Python 3",
   "language": "python",
   "name": "python3"
  },
  "language_info": {
   "codemirror_mode": {
    "name": "ipython",
    "version": 3
   },
   "file_extension": ".py",
   "mimetype": "text/x-python",
   "name": "python",
   "nbconvert_exporter": "python",
   "pygments_lexer": "ipython3",
   "version": "3.6.5"
  }
 },
 "nbformat": 4,
 "nbformat_minor": 2
}
